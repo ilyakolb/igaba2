{
 "cells": [
  {
   "cell_type": "code",
   "execution_count": null,
   "id": "choice-checkout",
   "metadata": {},
   "outputs": [],
   "source": [
    "\"\"\"\n",
    "imaging igabasnfr and 514.4409 at high resolution\n",
    "data in: Z:\\ilya\\imaging\\20201117_iGABASnFR_imaging_IK\\synapse_imaging\n",
    "excel spreadsheet in: Z:\\ilya\\imaging\\20201117_iGABASnFR_imaging_IK\\synapse_imaging\\synapse-imaging-results.xlsx\n",
    "imaging params: \n",
    "    Imaged on rig 2, 100% XCite light power\n",
    "    160 FPS\n",
    "    5 APs\n",
    "    40X / 1.45 NA Oil objective\n",
    "    16 DIV neurons in standard GENIE culture plate\n",
    "\n",
    "\"\"\"\n",
    "\n",
    "import pandas as pd\n",
    "import numpy as np\n",
    "import os\n",
    "import matplotlib.pyplot as plt\n",
    "import seaborn as sns\n",
    "from utils import calc_dff_trace,debleach\n",
    "\n",
    " \n",
    "# plt.close('all')\n",
    "\n",
    "srate = 160\n",
    "beginning_frames_to_ignore = 10 # remove fast transient\n"
   ]
  },
  {
   "cell_type": "code",
   "execution_count": null,
   "id": "dense-cooler",
   "metadata": {
    "scrolled": false
   },
   "outputs": [],
   "source": [
    "# 20201124 data\n",
    "pkldir_20201124 = r'Z:\\ilya\\code\\igaba2-code\\GABA-titration-analysis\\data\\5AP'\n",
    "pkls_1 = ['1_1', '1_2', '1_3', '1_4', '1_5', '1_6']\n",
    "pkls_4409 =  ['4409_2', '4409_3', '4409_4', '4409_5', '4409_6', '4409_7']\n",
    "n_recs_max = max([len(pkls_1), len(pkls_4409)])\n",
    "pkl_list = [pkls_1, pkls_4409]\n",
    "f, axs = plt.subplots(n_recs_max, 2, figsize = [7.43, 5])\n",
    "\n",
    "j = 0\n",
    "for pk in pkl_list:\n",
    "    \n",
    "    i=0\n",
    "    for pkl in pk: # pkls_1 or pkls_4409\n",
    "\n",
    "        full = pd.read_pickle(os.path.join(pkldir_20201124, pkl + ' full.pkl'))['Y'].to_numpy()\n",
    "        bg = pd.read_pickle(os.path.join(pkldir_20201124, pkl + ' bg.pkl'))['Y'].to_numpy()\n",
    "        t_vec = np.arange(beginning_frames_to_ignore,full.shape[0])/srate\n",
    "\n",
    "        # remove first few frames (might be fast bleaching)\n",
    "        full = full[beginning_frames_to_ignore:]\n",
    "        bg = bg[beginning_frames_to_ignore:]\n",
    "\n",
    "        full_dff = calc_dff_trace(bg, full)\n",
    "        debleach_full_dff = debleach(full_dff, t_vec)\n",
    "        axs[i,j].plot(t_vec, debleach_full_dff, 'k-')\n",
    "        i+=1\n",
    "    j+=1\n",
    "    "
   ]
  },
  {
   "cell_type": "code",
   "execution_count": null,
   "id": "lasting-vaccine",
   "metadata": {
    "scrolled": false
   },
   "outputs": [],
   "source": [
    "# 20201117 data\n",
    "results = pd.read_csv(r'Z:\\ilya\\code\\igaba2-code\\GABA-titration-analysis\\data\\5AP\\iGABASnFR-vs-4409-highRes-imaging-results-20201117.csv')\n",
    "t_vec = np.arange(beginning_frames_to_ignore,results.shape[0])/srate\n",
    "\n",
    "# pkldir_20201117 = r'D:\\imaging_local\\20201117_iGABASnFR_imaging_IK\\synapse_imaging\\4409_G10_5AP_synapses'\n",
    "\n",
    "columns_1 = np.array(['1_A6_5AP', '1_A6_5AP_2', '1_B6_5AP', '1_B6_5AP_2', '1_C6_5AP'])\n",
    "columns_4409 =  np.array(['4409_D10_5AP', '4409_E10_5AP', '4409_G10_5AP', '4409_G10_5AP_2'])\n",
    "n_recs_max = max([len(columns_1), len(columns_4409)])\n",
    "\n",
    "f, axs = plt.subplots(n_recs_max, 2, figsize = [7.43, 5])\n",
    "\n",
    "all_columns = [columns_1, columns_4409]\n",
    "\n",
    "j=0\n",
    "for col in all_columns:\n",
    "    \n",
    "    i=0\n",
    "    for c in col: # columns_1 or columns_4409\n",
    "        column_name = c# '1_C6_5AP'# '4409_D10_5AP'\n",
    "        bg = results[column_name + ' bg'][beginning_frames_to_ignore:].to_numpy()\n",
    "        full = results[column_name + ' full'][beginning_frames_to_ignore:].to_numpy()\n",
    "\n",
    "        full_dff = calc_dff_trace(bg, full)\n",
    "        debleach_full_dff = debleach(full_dff, t_vec)\n",
    "\n",
    "        axs[i,j].plot(t_vec, debleach_full_dff, 'k-')\n",
    "        axs[i,j].set_xlabel('Time (s)')\n",
    "        axs[i,j].set_title(column_name)\n",
    "        axs[i,j].set_xticklabels([])\n",
    "        \n",
    "        # save samples\n",
    "        if column_name == '4409_D10_5AP':\n",
    "            dff_4409_D10_5AP = debleach_full_dff\n",
    "        if column_name == '4409_E10_5AP':\n",
    "            dff_4409_E10_5AP = debleach_full_dff\n",
    "        if column_name == '4409_G10_5AP':\n",
    "            dff_4409_G10_5AP = debleach_full_dff\n",
    "        if column_name == '1_B6_5AP_2':\n",
    "            dff_1_B6_5AP_2 = debleach_full_dff\n",
    "        i+=1\n",
    "    j+=1\n",
    "plt.tight_layout()"
   ]
  },
  {
   "cell_type": "code",
   "execution_count": null,
   "id": "nearby-graph",
   "metadata": {},
   "outputs": [],
   "source": [
    "'''\n",
    "plot superimposed representative iGABA and iGABA2 traces \n",
    " - run previous cell first\n",
    "'''\n",
    "\n",
    "colorpalette = {'iGABASnFR': 'k', '514.4409': 'red'}\n",
    "\n",
    "f,ax = plt.subplots(2,1,figsize=[3*1.5,3], sharey=True)\n",
    "ax[0].plot(t_vec, dff_1_B6_5AP_2, color=colorpalette['iGABASnFR'])\n",
    "ax[0].set_xlim([1,4])\n",
    "ax[1].plot(t_vec, dff_4409_G10_5AP, color=colorpalette['514.4409'])\n",
    "ax[1].set_xlim([1,4])\n",
    "plt.tight_layout()\n",
    "f.savefig('figs/high-mag-imaging-traces.pdf')"
   ]
  },
  {
   "cell_type": "code",
   "execution_count": 14,
   "id": "confused-given",
   "metadata": {},
   "outputs": [
    {
     "data": {
      "image/png": "[encoded data removed]",
      "text/plain": [
       "<Figure size 216x216 with 1 Axes>"
      ]
     },
     "metadata": {
      "needs_background": "light"
     },
     "output_type": "display_data"
    }
   ],
   "source": [
    "import matplotlib.pyplot as plt\n",
    "import seaborn as sns\n",
    "import pandas as pd\n",
    "import numpy as np\n",
    "from scipy import stats\n",
    "\n",
    "# combined stats from plots above\n",
    "\n",
    "dff_514_1 = pd.DataFrame(np.array([0.0061, 0.00289, 0.035, 0.028, 0.0003, .0084, .024, .0191, .0083, .0084, .0087, ]), columns=['iGABASnFR'])\n",
    "dff_514_4409 = pd.DataFrame(np.array([0.182, 0.185, 0.134, 0.378, .08, .113, 0.142, .149, .234, .198]), columns=['514.4409'])\n",
    "\n",
    "colorpalette = {'iGABASnFR': 'k', '514.4409': 'red'}\n",
    "dff_combo = pd.concat([pd.melt(dff_514_1), pd.melt(dff_514_4409)])\n",
    "dff_combo = dff_combo.rename(columns={'variable': 'construct', 'value':'DF/F'})\n",
    "\n",
    "f = plt.figure(figsize=[3,3])\n",
    "sns.boxplot(x='construct', y='DF/F', \n",
    "            data=dff_combo, \n",
    "            hue='construct', \n",
    "            showfliers=False, \n",
    "            palette=colorpalette, \n",
    "            dodge=False,width=0.4)\n",
    "ax=sns.stripplot(data=dff_combo, \n",
    "              x='construct', y='DF/F', \n",
    "              color='black', \n",
    "              edgecolor = 'white', \n",
    "              linewidth = 1)\n",
    "\n",
    "plt.tight_layout()\n",
    "ax.get_legend().remove()\n",
    "f.savefig('figs/high-mag-imaging-aggregate.pdf')\n",
    "\n",
    "# stats\n",
    "(_, p) = stats.ttest_ind(dff_combo[dff_combo['construct'] == '514.4409']['DF/F'], dff_combo[dff_combo['construct'] == 'iGABASnFR']['DF/F'], equal_var=False)\n",
    "print('p = {}'.form)"
   ]
  },
  {
   "cell_type": "code",
   "execution_count": 13,
   "id": "virgin-sapphire",
   "metadata": {},
   "outputs": [
    {
     "data": {
      "text/plain": [
       "0    0.182\n",
       "1    0.185\n",
       "2    0.134\n",
       "3    0.378\n",
       "4    0.080\n",
       "5    0.113\n",
       "6    0.142\n",
       "7    0.149\n",
       "8    0.234\n",
       "9    0.198\n",
       "Name: DF/F, dtype: float64"
      ]
     },
     "execution_count": 13,
     "metadata": {},
     "output_type": "execute_result"
    }
   ],
   "source": [
    "dff_combo[dff_combo['construct'] == '514.4409']"
   ]
  }
 ],
 "metadata": {
  "kernelspec": {
   "display_name": "Python 3",
   "language": "python",
   "name": "python3"
  },
  "language_info": {
   "codemirror_mode": {
    "name": "ipython",
    "version": 3
   },
   "file_extension": ".py",
   "mimetype": "text/x-python",
   "name": "python",
   "nbconvert_exporter": "python",
   "pygments_lexer": "ipython3",
   "version": "3.8.5"
  }
 },
 "nbformat": 4,
 "nbformat_minor": 5
}
