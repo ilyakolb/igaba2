{
 "cells": [
  {
   "cell_type": "code",
   "execution_count": null,
   "id": "subsequent-toilet",
   "metadata": {
    "scrolled": false
   },
   "outputs": [],
   "source": [
    "import os\n",
    "import pandas as pd\n",
    "import matplotlib.pyplot as plt\n",
    "import seaborn as sns\n",
    "import numpy as np\n",
    "\n",
    "nAP='40'\n",
    "csv_dir = r'./data/20210323_iGABASnFR/good-{}AP-all-omit.csv'.format(nAP)\n",
    "df_pkl_dir = os.path.join('data',os.path.split(csv_dir)[-1].split('.')[0] + '.pkl')\n",
    "\n",
    "df = pd.read_pickle(df_pkl_dir)\n",
    "\n",
    "rank_by_var = 'DF/F_norm'\n",
    "# plot_vars = ['DF/F_norm', 'F0_norm']\n",
    "\n",
    "# separate single and combo mutations\n",
    "df_singles = df[df['n_mutations'] == 1]\n",
    "df_sorted_neg_singles = df_singles[df_singles['negative-going']==1].sort_values(by=rank_by_var, ascending=True)\n",
    "df_sorted_pos_singles = df_singles[df_singles['negative-going']==0].sort_values(by=rank_by_var, ascending=True)\n",
    "\n",
    "df_combos = df[df['n_mutations'] > 1]\n",
    "df_sorted_neg_combos = df_combos[df_combos['negative-going']==1].sort_values(by=rank_by_var, ascending=True)\n",
    "df_sorted_pos_combos = df_combos[df_combos['negative-going']==0].sort_values(by=rank_by_var, ascending=True)\n",
    "\n",
    "# sorted_combos_rankvar = df_sorted_combos[rank_by_var].to_numpy()\n",
    "\n",
    "print('# single mutations: {}'.format(df_singles.shape[0]))\n",
    "print('# combo mutations: {}'.format(df_combos.shape[0]))\n",
    "\n",
    "[n_singles_neg, n_singles_pos, n_combos_neg, n_combos_pos] = [df_sorted_neg_singles.shape[0], \n",
    "                                                              df_sorted_pos_singles.shape[0],\n",
    "                                                             df_sorted_neg_combos.shape[0],\n",
    "                                                             df_sorted_pos_combos.shape[0]]\n",
    "\n",
    "plt.figure(figsize=[15,5])\n",
    "ax = plt.bar(np.arange(0,n_combos_neg), df_sorted_neg_combos[rank_by_var], color='black', width=1, tick_label=None)\n",
    "ax = plt.bar(n_combos_neg + np.arange(0,n_singles_neg), df_sorted_neg_singles[rank_by_var], color='gray', width=1, tick_label=None)\n",
    "ax = plt.bar(n_combos_neg + n_singles_neg + np.arange(0,n_singles_pos), df_sorted_pos_singles[rank_by_var], color='gray', width=1, tick_label=None)\n",
    "ax = plt.bar(n_combos_neg + n_singles_neg + n_singles_pos + np.arange(0, n_combos_pos), df_sorted_pos_combos[rank_by_var], color='black', width=1, tick_label=None)\n",
    "\n",
    "display(\"Top single neg-going\")\n",
    "display(df_sorted_neg_singles.head(5))\n",
    "display(\"Top single pos-going\")\n",
    "display(df_sorted_pos_singles.tail(5))\n",
    "\n",
    "display(\"Top combo neg-going\")\n",
    "display(df_sorted_neg_combos.head(5))\n",
    "display(\"Top combo pos-going\")\n",
    "display(df_sorted_pos_combos.tail(5))"
   ]
  }
 ],
 "metadata": {
  "kernelspec": {
   "display_name": "Python 3",
   "language": "python",
   "name": "python3"
  },
  "language_info": {
   "codemirror_mode": {
    "name": "ipython",
    "version": 3
   },
   "file_extension": ".py",
   "mimetype": "text/x-python",
   "name": "python",
   "nbconvert_exporter": "python",
   "pygments_lexer": "ipython3",
   "version": "3.8.5"
  }
 },
 "nbformat": 4,
 "nbformat_minor": 5
}
