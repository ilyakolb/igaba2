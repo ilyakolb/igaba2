{
 "cells": [
  {
   "cell_type": "code",
   "execution_count": null,
   "id": "premium-speaking",
   "metadata": {},
   "outputs": [],
   "source": [
    "import numpy as np\n",
    "import pandas as pd\n",
    "import matplotlib.pyplot as plt\n",
    "import seaborn as sns\n",
    "from utils import import_igaba_pkl\n",
    "\n",
    "nAP='40'\n",
    "highlights_singles = ['F102G'\n",
    "              'S99A', 'S99G', 'S99C',\n",
    "              'F104Y', 'F104H',\n",
    "              'K253I', 'K253Y',\n",
    "              'L178R', 'L178S',\n",
    "              'R168P']\n",
    "highlights_combos = ['S99A F104H R168P',\n",
    "                  'S99A F102Y F104Y L178S']\n",
    "\n",
    "x_plot = 'DF/F_norm'\n",
    "y_plot = 'SNR_norm'\n",
    "data = import_igaba_pkl(nAP)\n",
    "\n",
    "data_highlights_singles = data.loc[[ind for ind in data.index if ind in highlights_singles]]\n",
    "data_highlights_combos = data.loc[[ind for ind in data.index if ind in highlights_combos]]\n",
    "f,ax = plt.subplots(figsize=[8,4])\n",
    "\n",
    "p=sns.color_palette()\n",
    "\n",
    "ax=sns.scatterplot(data=data, \n",
    "                   x=x_plot, y=y_plot, \n",
    "                   palette='bright',\n",
    "                   hue='is_combo_int',\n",
    "                   s=50)\n",
    "\n",
    "ax = sns.scatterplot(data=data_highlights_singles,\n",
    "               x=x_plot, y=y_plot, \n",
    "               marker='P',\n",
    "               color = 'green',\n",
    "               s=150)\n",
    "ax = sns.scatterplot(data=data_highlights_combos,\n",
    "               x=x_plot, y=y_plot, \n",
    "               marker='X', \n",
    "               color = 'red',\n",
    "               s=150)\n",
    "plt.scatter(1,1,marker='o', color='black', s=150)\n",
    "\n",
    "ax.get_legend().remove()\n",
    "plt.xticks(fontsize=14)\n",
    "plt.yticks(fontsize=14)\n",
    "\n",
    "ax.set_xlabel('$\\Delta$F/F (norm.)', fontsize=14)\n",
    "ax.set_ylabel('SNR (norm.)', fontsize=14)\n",
    "\n",
    "f.savefig('figs/screening_scatter.pdf')"
   ]
  }
 ],
 "metadata": {
  "kernelspec": {
   "display_name": "Python 3",
   "language": "python",
   "name": "python3"
  },
  "language_info": {
   "codemirror_mode": {
    "name": "ipython",
    "version": 3
   },
   "file_extension": ".py",
   "mimetype": "text/x-python",
   "name": "python",
   "nbconvert_exporter": "python",
   "pygments_lexer": "ipython3",
   "version": "3.8.5"
  }
 },
 "nbformat": 4,
 "nbformat_minor": 5
}
